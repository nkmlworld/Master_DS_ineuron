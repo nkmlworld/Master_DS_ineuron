{
  "nbformat": 4,
  "nbformat_minor": 0,
  "metadata": {
    "colab": {
      "provenance": []
    },
    "kernelspec": {
      "name": "python3",
      "display_name": "Python 3"
    },
    "language_info": {
      "name": "python"
    }
  },
  "cells": [
    {
      "cell_type": "code",
      "execution_count": null,
      "metadata": {
        "id": "pMz4cPKbMrl6"
      },
      "outputs": [],
      "source": []
    },
    {
      "cell_type": "markdown",
      "source": [
        " **1 . Explain the following with an  example::\n",
        "Artificial Intelligence\n",
        "Machine Learning,\n",
        "Deep Learning???**"
      ],
      "metadata": {
        "id": "_te0VoBYM06U"
      }
    },
    {
      "cell_type": "markdown",
      "source": [
        "'''\n",
        "[1] Artificial Intelligence (AI):\n",
        "Artificial Intelligence refers to the simulation of human intelligence processes by machines, especially computer systems.\n",
        "It involves the development of algorithms that can perform tasks that typically require human intelligence,\n",
        "such as visual perception, speech recognition, decision-making, and language translation.\n",
        "*Example*: An example of artificial intelligence is a virtual personal assistant like Siri, Alexa, or Google Assistant.\n",
        "\n",
        "[2] Machine Learning (ML):\n",
        "Machine Learning is a subset of artificial intelligence that focuses on the development of algorithms that enable computers to learn from and make predictions or decisions based on data, without being explicitly programmed to do so. In machine learning, algorithms are trained on data, and as they are exposed to more data, they improve their performance.\n",
        "*Example*: An example of machine learning is a spam email filter. Instead of being programmed with specific rules for identifying spam, the filter is trained on a dataset of emails labeled as spam or not spam.\n",
        "\n",
        "[3] Deep Learning:\n",
        "Deep Learning is a subset of machine learning that is inspired by the structure and function of the human brain, specifically in the way it processes information in layers of neurons. Deep learning algorithms, also known as neural networks, consist of multiple layers of interconnected nodes (neurons) that work together to learn representations of data.\n",
        "*Example*: An example of deep learning is image recognition. Deep learning models, such as Convolutional Neural Networks (CNNs), can be trained on large datasets of images labeled with corresponding objects or features\n"
      ],
      "metadata": {
        "id": "gh2dSQR8Nlqx"
      }
    },
    {
      "cell_type": "code",
      "source": [
        "#----------------------------------------------------"
      ],
      "metadata": {
        "id": "v8sKHsaoO-_Y"
      },
      "execution_count": 2,
      "outputs": []
    },
    {
      "cell_type": "markdown",
      "source": [
        "**2. What is supervised Learning? List some examples of supervised learning.**"
      ],
      "metadata": {
        "id": "kM4TcsqOOmCr"
      }
    },
    {
      "cell_type": "markdown",
      "source": [
        "\n",
        "Supervised learning is a type of machine learning where the algorithm is trained on a labeled dataset, meaning that each input data point is associated with an output label. The goal of supervised learning is to learn a mapping from inputs to outputs, based on the labeled examples provided during training.\n",
        "\n",
        "Examples:\n",
        "1. Classification : In classification tasks, the goal is to predict a categorical label or class for a given input. The output is typically a discrete value representing a specific category or class. Given email is spam or not, given image is cat or dog, yes or no. Binary as well multi classification.\n",
        "\n",
        "2. Regression: In regression tasks, the goal is to predict a continuous numerical value for a given input. The output is a continuous value representing a quantity or a real number. House price prediction, used car or bike price prediction"
      ],
      "metadata": {
        "id": "ufX7WtC4OmFP"
      }
    },
    {
      "cell_type": "code",
      "source": [
        "#----------------------------------------------------"
      ],
      "metadata": {
        "id": "SxeH29jaPrOO"
      },
      "execution_count": 3,
      "outputs": []
    },
    {
      "cell_type": "markdown",
      "source": [
        "**3. What is unsupervised Learning? List some examples of unsupervised learning.**"
      ],
      "metadata": {
        "id": "HzXKuInpOmHg"
      }
    },
    {
      "cell_type": "markdown",
      "source": [
        "\n",
        "Unsupervised learning is a type of machine learning where the algorithm is trained on a dataset without any supervision or labeled output. The goal of unsupervised learning is to find patterns, structure, or relationships in the data without explicit guidance.\n",
        "\n",
        "Examples:\n",
        "Clustering: In clustering tasks, the goal is to group similar data points together into clusters based on their features or characteristics. The algorithm identifies patterns or similarities in the data and assigns each data point to a cluster.\n",
        "\n",
        "Dimensionality Reduction: In dimensionality reduction tasks, the goal is to reduce the number of features or dimensions in the data while preserving its important structure or information. This can help in visualizing high-dimensional data, reducing computational complexity, or removing noise or redundant information. Principal Component Analysis is a popular unsupervised learning technique used for dimensionality reduction"
      ],
      "metadata": {
        "id": "8BUMKg8nQDge"
      }
    },
    {
      "cell_type": "code",
      "source": [
        "#----------------------------------------------------"
      ],
      "metadata": {
        "id": "ettJtNdJP3SP"
      },
      "execution_count": 4,
      "outputs": []
    },
    {
      "cell_type": "markdown",
      "source": [
        "**4 . What is the difference between AI, ML, DL, and DS?**"
      ],
      "metadata": {
        "id": "ScY6VhMiREat"
      }
    },
    {
      "cell_type": "markdown",
      "source": [
        "*Artificial Intelligence (AI)*:\n",
        "AI refers to the development of computer systems that can perform tasks that typically require human intelligence. These tasks may include understanding natural language, recognizing patterns in data, solving complex problems, and making decisions. AI aims to create machines that can mimic cognitive functions associated with human minds without any human inteferenece.\n",
        "\n",
        "Machine Learning (ML):\n",
        "*italicized text*Machine Learning is a subset of AI that focuses on developing algorithms and techniques that enable computers to learn from data and make predictions or decisions without being explicitly programmed to do so. In ML, algorithms are trained on datasets, and as they are exposed to more data, they improve their performance.\n",
        "\n",
        "*Deep Learning (DL):*\n",
        "Deep Learning is a subset of machine learning that uses neural networks with multiple layers (deep neural networks) to learn representations of data. DL algorithms are inspired by the structure and function of the human brain, specifically in the way it processes information in layers of neurons. Deep learning has been particularly successful in tasks such as image and speech recognition, natural language processing, and other areas where complex patterns can be learned from large amounts of data.\n",
        "\n",
        "*Data Science (DS)*:\n",
        "Data Science is a multidisciplinary field that combines principles from statistics, mathematics, computer science, domain knowledge, and machine learning to extract insights and knowledge from data. Data scientists collect, clean, analyze, and interpret large and complex datasets to uncover patterns, trends, and relationships that can inform decision-making and drive innovation. Data science encompasses various techniques and methods, including machine learning, data mining, statistical modeling, data visualization, and more."
      ],
      "metadata": {
        "id": "fUnbA5dsRU2k"
      }
    },
    {
      "cell_type": "code",
      "source": [
        "#----------------------------------------------------"
      ],
      "metadata": {
        "id": "ctNCWe0fSmte"
      },
      "execution_count": 5,
      "outputs": []
    },
    {
      "cell_type": "markdown",
      "source": [
        "**5. What are the main differences between supervised, unsupervised, and semi-supervised learning?**"
      ],
      "metadata": {
        "id": "5OpY2MOVTpWI"
      }
    },
    {
      "cell_type": "markdown",
      "source": [
        "1. In supervised learning, the algorithm is trained on a labeled dataset, where each input data point is associated with an output label.\n",
        "\n",
        "In unsupervised learning, the algorithm is trained on an unlabeled dataset, meaning there are no corresponding output labels provided.\n",
        "\n",
        "Semi-supervised learning is a combination of supervised and unsupervised learning, where the algorithm is trained on a dataset that contains both labeled and unlabeled data.\n",
        "\n",
        "---\n",
        "\n",
        "2.\n",
        "The goal is to learn a mapping from inputs to outputs based on the provided labeled examples.\n",
        "\n",
        "The goal is to find patterns, structure, or relationships in the data without explicit guidance.\n",
        "\n",
        "The goal is to leverage the small amount of labeled data along with the larger pool of unlabeled data to improve learning performance.\n",
        "\n",
        "\n",
        "---\n",
        "\n",
        "\n",
        "\n",
        "3.\n",
        "Common tasks include Classification (predicting a categorical label) and Regression (predicting a continuous value).\n",
        "\n",
        "Common tasks include clustering (grouping similar data points) and dimensionality reduction (reducing the number of features).\n",
        "\n",
        "Can be beneficial when obtaining labeled data is expensive or time-consuming.\n",
        "Image recognition with a limited number of labeled images supplemented by a large amount of unlabeled data."
      ],
      "metadata": {
        "id": "NTd2LvEgTqf-"
      }
    },
    {
      "cell_type": "code",
      "source": [
        "#----------------------------------------------------"
      ],
      "metadata": {
        "id": "HBbgb6TgVVUq"
      },
      "execution_count": 6,
      "outputs": []
    },
    {
      "cell_type": "markdown",
      "source": [
        "6. What is train, test and validation split? Explain the importance of each term."
      ],
      "metadata": {
        "id": "_x6NJIusVvYq"
      }
    },
    {
      "cell_type": "markdown",
      "source": [
        "Training Set:\n",
        "The training set is a subset of the dataset used to train the machine learning model. It consists of input data points along with their corresponding output labels (in supervised learning tasks).\n",
        "\n",
        "Validation Set:\n",
        "The validation set is a subset of the dataset used to tune hyperparameters and evaluate the performance of the model during training. It is separate from the training set and is not used to update the model's parameters.\n",
        "\n",
        "Test Set:\n",
        "The test set is a subset of the dataset used to evaluate the final performance of the trained model. It is unseen data that the model has not been exposed to during training or validation.\n",
        "\n",
        "Proper splitting of the dataset into these subsets ensures that the model is trained, tuned, and evaluated effectively, leading to the development of robust and reliable machine learning models."
      ],
      "metadata": {
        "id": "IutvzBSXVzk-"
      }
    },
    {
      "cell_type": "code",
      "source": [
        "#----------------------------------------------------"
      ],
      "metadata": {
        "id": "zpkHXiRJYcrH"
      },
      "execution_count": 7,
      "outputs": []
    },
    {
      "cell_type": "markdown",
      "source": [
        "**7. How can unsupervised learning be used in anomaly detection?**"
      ],
      "metadata": {
        "id": "vtEjdi5fYfT1"
      }
    },
    {
      "cell_type": "markdown",
      "source": [
        " List down some commonly used supervised learning algorithms and unsupervised learning algorithms.\n",
        "\n",
        " Supervised learning algos:\n",
        " Linear and Logistics regression, Decision Trees, Random Forest, Support Vector Machines, K-Nearest Neighbors, Naive Bayes.\n",
        "\n",
        " Unsupervised learning algos:\n",
        " K-means clustering, DBSCAN, PCA."
      ],
      "metadata": {
        "id": "tCNhItradL-M"
      }
    },
    {
      "cell_type": "code",
      "source": [
        "#----------------------------------------------------"
      ],
      "metadata": {
        "id": "wtBTI6Fhfg9s"
      },
      "execution_count": 8,
      "outputs": []
    },
    {
      "cell_type": "markdown",
      "source": [
        "**How can unsupervised learning be used in anomaly detection?**"
      ],
      "metadata": {
        "id": "AzJtYB0pfe2w"
      }
    },
    {
      "cell_type": "code",
      "source": [
        "#Not so sure about this question."
      ],
      "metadata": {
        "id": "uy__PxVefgKY"
      },
      "execution_count": 10,
      "outputs": []
    },
    {
      "cell_type": "code",
      "source": [],
      "metadata": {
        "id": "p3aWp93kfl2n"
      },
      "execution_count": null,
      "outputs": []
    }
  ]
}